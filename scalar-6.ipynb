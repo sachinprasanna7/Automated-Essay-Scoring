{
 "cells": [
  {
   "cell_type": "code",
   "execution_count": 1,
   "id": "ae445206",
   "metadata": {
    "execution": {
     "iopub.execute_input": "2024-06-23T12:45:30.316449Z",
     "iopub.status.busy": "2024-06-23T12:45:30.316116Z",
     "iopub.status.idle": "2024-06-23T12:46:27.264339Z",
     "shell.execute_reply": "2024-06-23T12:46:27.263298Z"
    },
    "papermill": {
     "duration": 56.955393,
     "end_time": "2024-06-23T12:46:27.266386",
     "exception": false,
     "start_time": "2024-06-23T12:45:30.310993",
     "status": "completed"
    },
    "tags": []
   },
   "outputs": [
    {
     "name": "stderr",
     "output_type": "stream",
     "text": [
      "2024-06-23 12:45:32.870995: E external/local_xla/xla/stream_executor/cuda/cuda_dnn.cc:9261] Unable to register cuDNN factory: Attempting to register factory for plugin cuDNN when one has already been registered\n",
      "2024-06-23 12:45:32.871103: E external/local_xla/xla/stream_executor/cuda/cuda_fft.cc:607] Unable to register cuFFT factory: Attempting to register factory for plugin cuFFT when one has already been registered\n",
      "2024-06-23 12:45:33.018246: E external/local_xla/xla/stream_executor/cuda/cuda_blas.cc:1515] Unable to register cuBLAS factory: Attempting to register factory for plugin cuBLAS when one has already been registered\n"
     ]
    },
    {
     "name": "stdout",
     "output_type": "stream",
     "text": [
      "[nltk_data] Error loading stopwords: <urlopen error [Errno -3]\n",
      "[nltk_data]     Temporary failure in name resolution>\n",
      "[nltk_data] Error loading wordnet: <urlopen error [Errno -3] Temporary\n",
      "[nltk_data]     failure in name resolution>\n"
     ]
    },
    {
     "name": "stderr",
     "output_type": "stream",
     "text": [
      "/opt/conda/lib/python3.10/pty.py:89: RuntimeWarning: os.fork() was called. os.fork() is incompatible with multithreaded code, and JAX is multithreaded, so this will likely lead to a deadlock.\n",
      "  pid, fd = os.forkpty()\n"
     ]
    },
    {
     "name": "stdout",
     "output_type": "stream",
     "text": [
      "Archive:  /usr/share/nltk_data/corpora/wordnet.zip\r\n",
      "   creating: /usr/share/nltk_data/corpora/wordnet/\r\n",
      "  inflating: /usr/share/nltk_data/corpora/wordnet/lexnames  \r\n",
      "  inflating: /usr/share/nltk_data/corpora/wordnet/data.verb  \r\n",
      "  inflating: /usr/share/nltk_data/corpora/wordnet/index.adv  \r\n",
      "  inflating: /usr/share/nltk_data/corpora/wordnet/adv.exc  \r\n",
      "  inflating: /usr/share/nltk_data/corpora/wordnet/index.verb  \r\n",
      "  inflating: /usr/share/nltk_data/corpora/wordnet/cntlist.rev  \r\n",
      "  inflating: /usr/share/nltk_data/corpora/wordnet/data.adj  \r\n",
      "  inflating: /usr/share/nltk_data/corpora/wordnet/index.adj  \r\n",
      "  inflating: /usr/share/nltk_data/corpora/wordnet/LICENSE  \r\n",
      "  inflating: /usr/share/nltk_data/corpora/wordnet/citation.bib  \r\n",
      "  inflating: /usr/share/nltk_data/corpora/wordnet/noun.exc  \r\n",
      "  inflating: /usr/share/nltk_data/corpora/wordnet/verb.exc  \r\n",
      "  inflating: /usr/share/nltk_data/corpora/wordnet/README  \r\n",
      "  inflating: /usr/share/nltk_data/corpora/wordnet/index.sense  \r\n",
      "  inflating: /usr/share/nltk_data/corpora/wordnet/data.noun  \r\n",
      "  inflating: /usr/share/nltk_data/corpora/wordnet/data.adv  \r\n",
      "  inflating: /usr/share/nltk_data/corpora/wordnet/index.noun  \r\n",
      "  inflating: /usr/share/nltk_data/corpora/wordnet/adj.exc  \r\n"
     ]
    }
   ],
   "source": [
    "import os\n",
    "import re\n",
    "import numpy as np\n",
    "import pandas as pd\n",
    "import tensorflow as tf\n",
    "from tensorflow import keras\n",
    "import keras_nlp\n",
    "from sklearn.model_selection import KFold\n",
    "from sklearn.metrics import cohen_kappa_score\n",
    "from tensorflow.keras import mixed_precision\n",
    "import string\n",
    "\n",
    "\n",
    "\n",
    "import nltk\n",
    "\n",
    "nltk.download('stopwords')\n",
    "nltk.download('wordnet')\n",
    "! unzip /usr/share/nltk_data/corpora/wordnet.zip -d /usr/share/nltk_data/corpora/\n",
    "from nltk.corpus import stopwords, cmudict\n",
    "from nltk.tokenize import sent_tokenize, word_tokenize\n",
    "from nltk.stem import WordNetLemmatizer"
   ]
  },
  {
   "cell_type": "code",
   "execution_count": 2,
   "id": "1ffb2875",
   "metadata": {
    "execution": {
     "iopub.execute_input": "2024-06-23T12:46:27.276956Z",
     "iopub.status.busy": "2024-06-23T12:46:27.275983Z",
     "iopub.status.idle": "2024-06-23T12:46:27.281103Z",
     "shell.execute_reply": "2024-06-23T12:46:27.280254Z"
    },
    "papermill": {
     "duration": 0.012212,
     "end_time": "2024-06-23T12:46:27.282978",
     "exception": false,
     "start_time": "2024-06-23T12:46:27.270766",
     "status": "completed"
    },
    "tags": []
   },
   "outputs": [],
   "source": [
    "# Enable mixed precision training\n",
    "policy = mixed_precision.Policy('mixed_float16')\n",
    "mixed_precision.set_global_policy(policy)\n"
   ]
  },
  {
   "cell_type": "code",
   "execution_count": 3,
   "id": "a400b562",
   "metadata": {
    "execution": {
     "iopub.execute_input": "2024-06-23T12:46:27.291968Z",
     "iopub.status.busy": "2024-06-23T12:46:27.291725Z",
     "iopub.status.idle": "2024-06-23T12:46:27.964233Z",
     "shell.execute_reply": "2024-06-23T12:46:27.963426Z"
    },
    "papermill": {
     "duration": 0.679622,
     "end_time": "2024-06-23T12:46:27.966643",
     "exception": false,
     "start_time": "2024-06-23T12:46:27.287021",
     "status": "completed"
    },
    "tags": []
   },
   "outputs": [],
   "source": [
    "# Load the datasets\n",
    "train_df = pd.read_csv('/kaggle/input/learning-agency-lab-automated-essay-scoring-2/train.csv')\n",
    "test_df = pd.read_csv('/kaggle/input/learning-agency-lab-automated-essay-scoring-2/test.csv')"
   ]
  },
  {
   "cell_type": "code",
   "execution_count": 4,
   "id": "9dd7f99a",
   "metadata": {
    "execution": {
     "iopub.execute_input": "2024-06-23T12:46:27.976660Z",
     "iopub.status.busy": "2024-06-23T12:46:27.975890Z",
     "iopub.status.idle": "2024-06-23T12:46:27.991664Z",
     "shell.execute_reply": "2024-06-23T12:46:27.990487Z"
    },
    "papermill": {
     "duration": 0.022739,
     "end_time": "2024-06-23T12:46:27.993749",
     "exception": false,
     "start_time": "2024-06-23T12:46:27.971010",
     "status": "completed"
    },
    "tags": []
   },
   "outputs": [
    {
     "name": "stdout",
     "output_type": "stream",
     "text": [
      "  essay_id                                          full_text  score\n",
      "0  000d118  Many people have car where they live. The thin...      3\n",
      "1  000fe60  I am a scientist at NASA that is discussing th...      3\n",
      "2  001ab80  People always wish they had the same technolog...      4\n",
      "3  001bdc0  We all heard about Venus, the planet without a...      4\n",
      "4  002ba53  Dear, State Senator\\n\\nThis is a letter to arg...      3\n",
      "  essay_id                                          full_text\n",
      "0  000d118  Many people have car where they live. The thin...\n",
      "1  000fe60  I am a scientist at NASA that is discussing th...\n",
      "2  001ab80  People always wish they had the same technolog...\n"
     ]
    }
   ],
   "source": [
    "# Display the first few rows of the training data\n",
    "print(train_df.head())\n",
    "print(test_df.head())"
   ]
  },
  {
   "cell_type": "code",
   "execution_count": 5,
   "id": "bd78f83e",
   "metadata": {
    "execution": {
     "iopub.execute_input": "2024-06-23T12:46:28.003211Z",
     "iopub.status.busy": "2024-06-23T12:46:28.002967Z",
     "iopub.status.idle": "2024-06-23T12:46:28.011080Z",
     "shell.execute_reply": "2024-06-23T12:46:28.010323Z"
    },
    "papermill": {
     "duration": 0.01475,
     "end_time": "2024-06-23T12:46:28.012897",
     "exception": false,
     "start_time": "2024-06-23T12:46:27.998147",
     "status": "completed"
    },
    "tags": []
   },
   "outputs": [],
   "source": [
    "def remove_urls(text):\n",
    "    \"\"\"\n",
    "    Removes URLs from the text.\n",
    "\n",
    "    Parameters:\n",
    "    text (str): The text from which URLs need to be removed.\n",
    "\n",
    "    Returns:\n",
    "    text (str): Text with URLs removed.\n",
    "    \"\"\"\n",
    "\n",
    "    url_pattern = re.compile(r'https?://\\S+|www\\.\\S+')\n",
    "    return url_pattern.sub(r'', text)\n",
    "\n",
    "def data_preprocessing(df):\n",
    "    \"\"\"\n",
    "    Preprocesses the data by performing the following steps:\n",
    "    - Lowercasing\n",
    "    - Removing URLs\n",
    "    - Removing punctuation\n",
    "    - Removing stopwords\n",
    "    - Lemmatization\n",
    "\n",
    "    Parameters:\n",
    "    df (DataFrame): DataFrame containing the essays.\n",
    "\n",
    "    Returns:\n",
    "    df (DataFrame): DataFrame with preprocessed essays.\n",
    "    \"\"\"\n",
    "\n",
    "    for index, row in df.iterrows():\n",
    "        text_value = row['full_text']\n",
    "\n",
    "        \n",
    "        text_value = text_value.lower()\n",
    "        text_value = remove_urls(text_value)\n",
    "        text_value = re.sub(r'[^\\w\\s]', '', text_value)\n",
    "\n",
    "        stop_words = set(stopwords.words('english'))\n",
    "        text_value = ' '.join([word for word in text_value.split() if word not in stop_words])\n",
    "\n",
    "        lemmatizer = WordNetLemmatizer()\n",
    "        text_value = ' '.join([lemmatizer.lemmatize(word) for word in text_value.split()])\n",
    "\n",
    "        df.at[index, 'full_text_preprocessed'] = text_value\n",
    "\n",
    "    return df"
   ]
  },
  {
   "cell_type": "code",
   "execution_count": 6,
   "id": "d927bcf7",
   "metadata": {
    "execution": {
     "iopub.execute_input": "2024-06-23T12:46:28.022327Z",
     "iopub.status.busy": "2024-06-23T12:46:28.021840Z",
     "iopub.status.idle": "2024-06-23T12:46:58.590994Z",
     "shell.execute_reply": "2024-06-23T12:46:58.590163Z"
    },
    "papermill": {
     "duration": 30.576314,
     "end_time": "2024-06-23T12:46:58.593295",
     "exception": false,
     "start_time": "2024-06-23T12:46:28.016981",
     "status": "completed"
    },
    "tags": []
   },
   "outputs": [],
   "source": [
    "train_df = data_preprocessing(train_df)"
   ]
  },
  {
   "cell_type": "code",
   "execution_count": 7,
   "id": "54b7fed3",
   "metadata": {
    "execution": {
     "iopub.execute_input": "2024-06-23T12:46:58.603675Z",
     "iopub.status.busy": "2024-06-23T12:46:58.603304Z",
     "iopub.status.idle": "2024-06-23T12:46:58.609016Z",
     "shell.execute_reply": "2024-06-23T12:46:58.608153Z"
    },
    "papermill": {
     "duration": 0.013204,
     "end_time": "2024-06-23T12:46:58.611065",
     "exception": false,
     "start_time": "2024-06-23T12:46:58.597861",
     "status": "completed"
    },
    "tags": []
   },
   "outputs": [],
   "source": [
    "# Prepare features and labels\n",
    "train_features = np.array(train_df['full_text'])\n",
    "train_labels = np.array(train_df['score'])\n",
    "test_features = np.array(test_df['full_text'])"
   ]
  },
  {
   "cell_type": "code",
   "execution_count": 8,
   "id": "cdc6f963",
   "metadata": {
    "execution": {
     "iopub.execute_input": "2024-06-23T12:46:58.620722Z",
     "iopub.status.busy": "2024-06-23T12:46:58.620445Z",
     "iopub.status.idle": "2024-06-23T14:46:09.472254Z",
     "shell.execute_reply": "2024-06-23T14:46:09.471427Z"
    },
    "papermill": {
     "duration": 7150.858948,
     "end_time": "2024-06-23T14:46:09.474266",
     "exception": false,
     "start_time": "2024-06-23T12:46:58.615318",
     "status": "completed"
    },
    "tags": []
   },
   "outputs": [
    {
     "name": "stderr",
     "output_type": "stream",
     "text": [
      "Attaching 'metadata.json' from model 'keras/deberta_v3/keras/deberta_v3_base_en/2' to your Kaggle notebook...\n",
      "Attaching 'metadata.json' from model 'keras/deberta_v3/keras/deberta_v3_base_en/2' to your Kaggle notebook...\n",
      "Attaching 'task.json' from model 'keras/deberta_v3/keras/deberta_v3_base_en/2' to your Kaggle notebook...\n",
      "Attaching 'config.json' from model 'keras/deberta_v3/keras/deberta_v3_base_en/2' to your Kaggle notebook...\n",
      "Attaching 'metadata.json' from model 'keras/deberta_v3/keras/deberta_v3_base_en/2' to your Kaggle notebook...\n",
      "Attaching 'metadata.json' from model 'keras/deberta_v3/keras/deberta_v3_base_en/2' to your Kaggle notebook...\n",
      "Attaching 'config.json' from model 'keras/deberta_v3/keras/deberta_v3_base_en/2' to your Kaggle notebook...\n",
      "Attaching 'config.json' from model 'keras/deberta_v3/keras/deberta_v3_base_en/2' to your Kaggle notebook...\n",
      "Attaching 'model.weights.h5' from model 'keras/deberta_v3/keras/deberta_v3_base_en/2' to your Kaggle notebook...\n",
      "Attaching 'metadata.json' from model 'keras/deberta_v3/keras/deberta_v3_base_en/2' to your Kaggle notebook...\n",
      "Attaching 'metadata.json' from model 'keras/deberta_v3/keras/deberta_v3_base_en/2' to your Kaggle notebook...\n",
      "Attaching 'preprocessor.json' from model 'keras/deberta_v3/keras/deberta_v3_base_en/2' to your Kaggle notebook...\n",
      "Attaching 'tokenizer.json' from model 'keras/deberta_v3/keras/deberta_v3_base_en/2' to your Kaggle notebook...\n",
      "Attaching 'tokenizer.json' from model 'keras/deberta_v3/keras/deberta_v3_base_en/2' to your Kaggle notebook...\n",
      "Attaching 'assets/tokenizer/vocabulary.spm' from model 'keras/deberta_v3/keras/deberta_v3_base_en/2' to your Kaggle notebook...\n"
     ]
    },
    {
     "name": "stdout",
     "output_type": "stream",
     "text": [
      "Epoch 1/5\n"
     ]
    },
    {
     "name": "stderr",
     "output_type": "stream",
     "text": [
      "WARNING: All log messages before absl::InitializeLog() is called are written to STDERR\n",
      "I0000 00:00:1719147011.796968      74 device_compiler.h:186] Compiled cluster using XLA!  This line is logged at most once for the lifetime of the process.\n"
     ]
    },
    {
     "name": "stdout",
     "output_type": "stream",
     "text": [
      "\u001b[1m866/866\u001b[0m \u001b[32m━━━━━━━━━━━━━━━━━━━━\u001b[0m\u001b[37m\u001b[0m \u001b[1m0s\u001b[0m 608ms/step - loss: 0.9812 - mean_absolute_error: 0.7225"
     ]
    },
    {
     "name": "stderr",
     "output_type": "stream",
     "text": [
      "W0000 00:00:1719147670.427464      75 graph_launch.cc:671] Fallback to op-by-op mode because memset node breaks graph update\n"
     ]
    },
    {
     "name": "stdout",
     "output_type": "stream",
     "text": [
      "\u001b[1m866/866\u001b[0m \u001b[32m━━━━━━━━━━━━━━━━━━━━\u001b[0m\u001b[37m\u001b[0m \u001b[1m837s\u001b[0m 778ms/step - loss: 0.9807 - mean_absolute_error: 0.7224 - val_loss: 0.4383 - val_mean_absolute_error: 0.5171\n",
      "Epoch 2/5\n",
      "\u001b[1m866/866\u001b[0m \u001b[32m━━━━━━━━━━━━━━━━━━━━\u001b[0m\u001b[37m\u001b[0m \u001b[1m541s\u001b[0m 624ms/step - loss: 0.3950 - mean_absolute_error: 0.4883 - val_loss: 0.3824 - val_mean_absolute_error: 0.4821\n",
      "Epoch 3/5\n",
      "\u001b[1m866/866\u001b[0m \u001b[32m━━━━━━━━━━━━━━━━━━━━\u001b[0m\u001b[37m\u001b[0m \u001b[1m529s\u001b[0m 611ms/step - loss: 0.3342 - mean_absolute_error: 0.4515 - val_loss: 0.3989 - val_mean_absolute_error: 0.4927\n",
      "Epoch 4/5\n",
      "\u001b[1m866/866\u001b[0m \u001b[32m━━━━━━━━━━━━━━━━━━━━\u001b[0m\u001b[37m\u001b[0m \u001b[1m527s\u001b[0m 609ms/step - loss: 0.2786 - mean_absolute_error: 0.4137 - val_loss: 0.3904 - val_mean_absolute_error: 0.4842\n",
      "Epoch 5/5\n",
      "\u001b[1m866/866\u001b[0m \u001b[32m━━━━━━━━━━━━━━━━━━━━\u001b[0m\u001b[37m\u001b[0m \u001b[1m535s\u001b[0m 618ms/step - loss: 0.2429 - mean_absolute_error: 0.3859 - val_loss: 0.3751 - val_mean_absolute_error: 0.4769\n",
      "\u001b[1m1082/1082\u001b[0m \u001b[32m━━━━━━━━━━━━━━━━━━━━\u001b[0m\u001b[37m\u001b[0m \u001b[1m140s\u001b[0m 122ms/step\n"
     ]
    },
    {
     "name": "stderr",
     "output_type": "stream",
     "text": [
      "Attaching 'metadata.json' from model 'keras/deberta_v3/keras/deberta_v3_base_en/2' to your Kaggle notebook...\n",
      "Attaching 'metadata.json' from model 'keras/deberta_v3/keras/deberta_v3_base_en/2' to your Kaggle notebook...\n",
      "Attaching 'task.json' from model 'keras/deberta_v3/keras/deberta_v3_base_en/2' to your Kaggle notebook...\n",
      "Attaching 'config.json' from model 'keras/deberta_v3/keras/deberta_v3_base_en/2' to your Kaggle notebook...\n",
      "Attaching 'metadata.json' from model 'keras/deberta_v3/keras/deberta_v3_base_en/2' to your Kaggle notebook...\n",
      "Attaching 'metadata.json' from model 'keras/deberta_v3/keras/deberta_v3_base_en/2' to your Kaggle notebook...\n",
      "Attaching 'config.json' from model 'keras/deberta_v3/keras/deberta_v3_base_en/2' to your Kaggle notebook...\n",
      "Attaching 'config.json' from model 'keras/deberta_v3/keras/deberta_v3_base_en/2' to your Kaggle notebook...\n",
      "Attaching 'model.weights.h5' from model 'keras/deberta_v3/keras/deberta_v3_base_en/2' to your Kaggle notebook...\n",
      "Attaching 'metadata.json' from model 'keras/deberta_v3/keras/deberta_v3_base_en/2' to your Kaggle notebook...\n",
      "Attaching 'metadata.json' from model 'keras/deberta_v3/keras/deberta_v3_base_en/2' to your Kaggle notebook...\n",
      "Attaching 'preprocessor.json' from model 'keras/deberta_v3/keras/deberta_v3_base_en/2' to your Kaggle notebook...\n",
      "Attaching 'tokenizer.json' from model 'keras/deberta_v3/keras/deberta_v3_base_en/2' to your Kaggle notebook...\n",
      "Attaching 'tokenizer.json' from model 'keras/deberta_v3/keras/deberta_v3_base_en/2' to your Kaggle notebook...\n",
      "Attaching 'assets/tokenizer/vocabulary.spm' from model 'keras/deberta_v3/keras/deberta_v3_base_en/2' to your Kaggle notebook...\n"
     ]
    },
    {
     "name": "stdout",
     "output_type": "stream",
     "text": [
      "Epoch 1/5\n",
      "\u001b[1m865/866\u001b[0m \u001b[32m━━━━━━━━━━━━━━━━━━━\u001b[0m\u001b[37m━\u001b[0m \u001b[1m0s\u001b[0m 470ms/step - loss: 1.3402 - mean_absolute_error: 0.8058"
     ]
    },
    {
     "name": "stderr",
     "output_type": "stream",
     "text": [
      "W0000 00:00:1719151132.354175      74 graph_launch.cc:671] Fallback to op-by-op mode because memset node breaks graph update\n"
     ]
    },
    {
     "name": "stdout",
     "output_type": "stream",
     "text": [
      "\u001b[1m866/866\u001b[0m \u001b[32m━━━━━━━━━━━━━━━━━━━━\u001b[0m\u001b[37m\u001b[0m \u001b[1m852s\u001b[0m 786ms/step - loss: 1.3387 - mean_absolute_error: 0.8054 - val_loss: 0.4541 - val_mean_absolute_error: 0.5143\n",
      "Epoch 2/5\n",
      "\u001b[1m866/866\u001b[0m \u001b[32m━━━━━━━━━━━━━━━━━━━━\u001b[0m\u001b[37m\u001b[0m \u001b[1m532s\u001b[0m 614ms/step - loss: 0.4260 - mean_absolute_error: 0.5058 - val_loss: 0.4177 - val_mean_absolute_error: 0.4946\n",
      "Epoch 3/5\n",
      "\u001b[1m866/866\u001b[0m \u001b[32m━━━━━━━━━━━━━━━━━━━━\u001b[0m\u001b[37m\u001b[0m \u001b[1m529s\u001b[0m 611ms/step - loss: 0.3657 - mean_absolute_error: 0.4702 - val_loss: 0.4047 - val_mean_absolute_error: 0.4877\n",
      "Epoch 4/5\n",
      "\u001b[1m866/866\u001b[0m \u001b[32m━━━━━━━━━━━━━━━━━━━━\u001b[0m\u001b[37m\u001b[0m \u001b[1m533s\u001b[0m 615ms/step - loss: 0.3124 - mean_absolute_error: 0.4339 - val_loss: 0.3708 - val_mean_absolute_error: 0.4658\n",
      "Epoch 5/5\n",
      "\u001b[1m866/866\u001b[0m \u001b[32m━━━━━━━━━━━━━━━━━━━━\u001b[0m\u001b[37m\u001b[0m \u001b[1m519s\u001b[0m 600ms/step - loss: 0.2543 - mean_absolute_error: 0.3896 - val_loss: 0.5097 - val_mean_absolute_error: 0.5503\n",
      "\u001b[1m1082/1082\u001b[0m \u001b[32m━━━━━━━━━━━━━━━━━━━━\u001b[0m\u001b[37m\u001b[0m \u001b[1m139s\u001b[0m 121ms/step\n",
      "Fold 2: Quadratic Weighted Kappa: 0.7791817261195981\n",
      "Average Quadratic Weighted Kappa: 0.7791817261195981\n",
      "\u001b[1m1/1\u001b[0m \u001b[32m━━━━━━━━━━━━━━━━━━━━\u001b[0m\u001b[37m\u001b[0m \u001b[1m4s\u001b[0m 4s/step\n"
     ]
    }
   ],
   "source": [
    "# Define the number of folds for cross-validation\n",
    "n_splits = 2  # Reduced number of folds for efficiency\n",
    "kf = KFold(n_splits=n_splits, shuffle=True, random_state=42)\n",
    "\n",
    "# Initialize lists to hold the kappa scores for each fold\n",
    "kappa_scores = []\n",
    "\n",
    "# Perform cross-validation\n",
    "for fold, (train_index, val_index) in enumerate(kf.split(train_features), 1):\n",
    "    X_train, X_val = train_features[train_index], train_features[val_index]\n",
    "    y_train, y_val = train_labels[train_index], train_labels[val_index]\n",
    "\n",
    "    # Pretrained classifier\n",
    "    classifier = keras_nlp.models.DebertaV3Classifier.from_preset(\n",
    "        \"deberta_v3_base_en\",\n",
    "        num_classes=1,  # Single regression output for score prediction\n",
    "    )\n",
    "\n",
    "    # Compile the classifier with appropriate loss and optimizer\n",
    "    lr_schedule = tf.keras.optimizers.schedules.ExponentialDecay(\n",
    "        initial_learning_rate=2e-5,\n",
    "        decay_steps=10000,\n",
    "        decay_rate=0.9\n",
    "    )\n",
    "    optimizer = tf.keras.optimizers.AdamW(learning_rate=lr_schedule)\n",
    "    \n",
    "    classifier.compile(\n",
    "        loss=keras.losses.MeanSquaredError(),  # Use MSE for regression\n",
    "        optimizer=optimizer,\n",
    "        metrics=[keras.metrics.MeanAbsoluteError()],\n",
    "        jit_compile=True,\n",
    "    )\n",
    "\n",
    "    # Include callbacks to save the best model and early stopping\n",
    "    callbacks = [\n",
    "        keras.callbacks.ModelCheckpoint(\n",
    "            filepath=f'/kaggle/working/best_model_fold_{fold}.keras',\n",
    "            save_best_only=True,\n",
    "            monitor='val_loss',\n",
    "            mode='min',\n",
    "        ),\n",
    "        keras.callbacks.EarlyStopping(\n",
    "            monitor='val_loss',\n",
    "            patience=3,\n",
    "            restore_best_weights=True\n",
    "        )\n",
    "    ]\n",
    "\n",
    "    # Fine-tune the model with a suitable batch size\n",
    "    classifier.fit(\n",
    "        x=X_train,\n",
    "        y=y_train,\n",
    "        validation_data=(X_val, y_val),\n",
    "        batch_size=10, \n",
    "        epochs=5,\n",
    "        callbacks=callbacks,\n",
    "        verbose=1  \n",
    "    )\n",
    "\n",
    "# Load the best model\n",
    "    classifier.load_weights(f'/kaggle/working/best_model_fold_{fold}.keras')\n",
    "\n",
    "# Make predictions on the validation set\n",
    "    val_predictions = classifier.predict(x=X_val, batch_size=8)\n",
    "\n",
    "# Round predictions for evaluation\n",
    "    val_predictions_rounded = np.round(val_predictions).flatten()\n",
    "\n",
    "# Calculate the quadratic weighted kappa\n",
    "kappa_score = cohen_kappa_score(y_val, val_predictions_rounded, weights='quadratic')\n",
    "kappa_scores.append(kappa_score)\n",
    "\n",
    "print(f\"Fold {fold}: Quadratic Weighted Kappa: {kappa_score}\")\n",
    "\n",
    "# Calculate the average kappa score across all folds\n",
    "average_kappa_score = np.mean(kappa_scores)\n",
    "print(f\"Average Quadratic Weighted Kappa: {average_kappa_score}\")\n",
    "\n",
    "# Make predictions on the test set using the final trained model\n",
    "test_predictions = classifier.predict(x=test_features, batch_size=8)\n",
    "\n",
    "# Round predictions for submission\n",
    "test_predicted_scores = np.round(test_predictions).flatten()\n",
    "\n",
    "# Prepare the submission file with correct formatting\n",
    "submission_df = pd.DataFrame({\n",
    "    'essay_id': test_df['essay_id'],  # Ensure this column name matches your test dataset\n",
    "    'score': test_predicted_scores\n",
    "})\n"
   ]
  },
  {
   "cell_type": "code",
   "execution_count": 9,
   "id": "942ebbe4",
   "metadata": {
    "execution": {
     "iopub.execute_input": "2024-06-23T14:46:11.218657Z",
     "iopub.status.busy": "2024-06-23T14:46:11.218258Z",
     "iopub.status.idle": "2024-06-23T14:46:11.227558Z",
     "shell.execute_reply": "2024-06-23T14:46:11.226659Z"
    },
    "papermill": {
     "duration": 0.878552,
     "end_time": "2024-06-23T14:46:11.229543",
     "exception": false,
     "start_time": "2024-06-23T14:46:10.350991",
     "status": "completed"
    },
    "tags": []
   },
   "outputs": [
    {
     "name": "stdout",
     "output_type": "stream",
     "text": [
      "Submission file saved to /kaggle/working/submission.csv\n"
     ]
    }
   ],
   "source": [
    "# Save the submission file\n",
    "submission_file_path = '/kaggle/working/submission.csv'\n",
    "submission_df.to_csv(submission_file_path, index=False)\n",
    "print(f\"Submission file saved to {submission_file_path}\")"
   ]
  }
 ],
 "metadata": {
  "kaggle": {
   "accelerator": "nvidiaTeslaT4",
   "dataSources": [
    {
     "databundleVersionId": 8059942,
     "sourceId": 71485,
     "sourceType": "competition"
    },
    {
     "modelInstanceId": 4686,
     "sourceId": 6065,
     "sourceType": "modelInstanceVersion"
    }
   ],
   "dockerImageVersionId": 30733,
   "isGpuEnabled": true,
   "isInternetEnabled": false,
   "language": "python",
   "sourceType": "notebook"
  },
  "kernelspec": {
   "display_name": "Python 3",
   "language": "python",
   "name": "python3"
  },
  "language_info": {
   "codemirror_mode": {
    "name": "ipython",
    "version": 3
   },
   "file_extension": ".py",
   "mimetype": "text/x-python",
   "name": "python",
   "nbconvert_exporter": "python",
   "pygments_lexer": "ipython3",
   "version": "3.10.13"
  },
  "papermill": {
   "default_parameters": {},
   "duration": 7248.775797,
   "end_time": "2024-06-23T14:46:16.311936",
   "environment_variables": {},
   "exception": null,
   "input_path": "__notebook__.ipynb",
   "output_path": "__notebook__.ipynb",
   "parameters": {},
   "start_time": "2024-06-23T12:45:27.536139",
   "version": "2.5.0"
  }
 },
 "nbformat": 4,
 "nbformat_minor": 5
}
