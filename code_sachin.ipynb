{
 "cells": [
  {
   "cell_type": "markdown",
   "metadata": {},
   "source": [
    "# Importing Libraries"
   ]
  },
  {
   "cell_type": "code",
   "execution_count": 85,
   "metadata": {},
   "outputs": [],
   "source": [
    "import numpy as np\n",
    "import pandas as pd\n",
    "import matplotlib.pyplot as plt\n",
    "import seaborn as sns\n",
    "import multiprocessing\n",
    "import re\n",
    "from collections import Counter\n",
    "\n",
    "from sklearn.feature_extraction.text import TfidfVectorizer\n",
    "from sklearn.model_selection import train_test_split, KFold\n",
    "from sklearn.metrics import accuracy_score, f1_score, precision_score, recall_score, confusion_matrix, classification_report, cohen_kappa_score\n",
    "\n",
    "from sklearn.tree import DecisionTreeClassifier\n",
    "\n",
    "import nltk\n",
    "from nltk.corpus import stopwords, cmudict\n",
    "from nltk.tokenize import sent_tokenize, word_tokenize\n",
    "from nltk.stem import WordNetLemmatizer"
   ]
  },
  {
   "cell_type": "markdown",
   "metadata": {},
   "source": [
    "# Describing Data"
   ]
  },
  {
   "cell_type": "code",
   "execution_count": 86,
   "metadata": {},
   "outputs": [],
   "source": [
    "dataset_train_path = 'Dataset/train.csv'\n",
    "dataset_test_path = 'Dataset/test.csv'"
   ]
  },
  {
   "cell_type": "code",
   "execution_count": 87,
   "metadata": {},
   "outputs": [],
   "source": [
    "df_train = pd.read_csv(dataset_train_path)\n",
    "df_test = pd.read_csv(dataset_test_path)"
   ]
  },
  {
   "cell_type": "code",
   "execution_count": 88,
   "metadata": {},
   "outputs": [
    {
     "data": {
      "text/html": [
       "<div>\n",
       "<style scoped>\n",
       "    .dataframe tbody tr th:only-of-type {\n",
       "        vertical-align: middle;\n",
       "    }\n",
       "\n",
       "    .dataframe tbody tr th {\n",
       "        vertical-align: top;\n",
       "    }\n",
       "\n",
       "    .dataframe thead th {\n",
       "        text-align: right;\n",
       "    }\n",
       "</style>\n",
       "<table border=\"1\" class=\"dataframe\">\n",
       "  <thead>\n",
       "    <tr style=\"text-align: right;\">\n",
       "      <th></th>\n",
       "      <th>essay_id</th>\n",
       "      <th>full_text</th>\n",
       "      <th>score</th>\n",
       "    </tr>\n",
       "  </thead>\n",
       "  <tbody>\n",
       "    <tr>\n",
       "      <th>0</th>\n",
       "      <td>000d118</td>\n",
       "      <td>Many people have car where they live. The thin...</td>\n",
       "      <td>3</td>\n",
       "    </tr>\n",
       "    <tr>\n",
       "      <th>1</th>\n",
       "      <td>000fe60</td>\n",
       "      <td>I am a scientist at NASA that is discussing th...</td>\n",
       "      <td>3</td>\n",
       "    </tr>\n",
       "    <tr>\n",
       "      <th>2</th>\n",
       "      <td>001ab80</td>\n",
       "      <td>People always wish they had the same technolog...</td>\n",
       "      <td>4</td>\n",
       "    </tr>\n",
       "    <tr>\n",
       "      <th>3</th>\n",
       "      <td>001bdc0</td>\n",
       "      <td>We all heard about Venus, the planet without a...</td>\n",
       "      <td>4</td>\n",
       "    </tr>\n",
       "    <tr>\n",
       "      <th>4</th>\n",
       "      <td>002ba53</td>\n",
       "      <td>Dear, State Senator\\n\\nThis is a letter to arg...</td>\n",
       "      <td>3</td>\n",
       "    </tr>\n",
       "  </tbody>\n",
       "</table>\n",
       "</div>"
      ],
      "text/plain": [
       "  essay_id                                          full_text  score\n",
       "0  000d118  Many people have car where they live. The thin...      3\n",
       "1  000fe60  I am a scientist at NASA that is discussing th...      3\n",
       "2  001ab80  People always wish they had the same technolog...      4\n",
       "3  001bdc0  We all heard about Venus, the planet without a...      4\n",
       "4  002ba53  Dear, State Senator\\n\\nThis is a letter to arg...      3"
      ]
     },
     "execution_count": 88,
     "metadata": {},
     "output_type": "execute_result"
    }
   ],
   "source": [
    "df_train.head()"
   ]
  },
  {
   "cell_type": "code",
   "execution_count": 89,
   "metadata": {},
   "outputs": [
    {
     "data": {
      "text/html": [
       "<div>\n",
       "<style scoped>\n",
       "    .dataframe tbody tr th:only-of-type {\n",
       "        vertical-align: middle;\n",
       "    }\n",
       "\n",
       "    .dataframe tbody tr th {\n",
       "        vertical-align: top;\n",
       "    }\n",
       "\n",
       "    .dataframe thead th {\n",
       "        text-align: right;\n",
       "    }\n",
       "</style>\n",
       "<table border=\"1\" class=\"dataframe\">\n",
       "  <thead>\n",
       "    <tr style=\"text-align: right;\">\n",
       "      <th></th>\n",
       "      <th>essay_id</th>\n",
       "      <th>full_text</th>\n",
       "    </tr>\n",
       "  </thead>\n",
       "  <tbody>\n",
       "    <tr>\n",
       "      <th>0</th>\n",
       "      <td>000d118</td>\n",
       "      <td>Many people have car where they live. The thin...</td>\n",
       "    </tr>\n",
       "    <tr>\n",
       "      <th>1</th>\n",
       "      <td>000fe60</td>\n",
       "      <td>I am a scientist at NASA that is discussing th...</td>\n",
       "    </tr>\n",
       "    <tr>\n",
       "      <th>2</th>\n",
       "      <td>001ab80</td>\n",
       "      <td>People always wish they had the same technolog...</td>\n",
       "    </tr>\n",
       "  </tbody>\n",
       "</table>\n",
       "</div>"
      ],
      "text/plain": [
       "  essay_id                                          full_text\n",
       "0  000d118  Many people have car where they live. The thin...\n",
       "1  000fe60  I am a scientist at NASA that is discussing th...\n",
       "2  001ab80  People always wish they had the same technolog..."
      ]
     },
     "execution_count": 89,
     "metadata": {},
     "output_type": "execute_result"
    }
   ],
   "source": [
    "df_test.head()"
   ]
  },
  {
   "cell_type": "code",
   "execution_count": 90,
   "metadata": {},
   "outputs": [
    {
     "name": "stdout",
     "output_type": "stream",
     "text": [
      "The shape of the training dataset is:  (17307, 3)\n",
      "The shape of the testing dataset is:  (3, 2)\n",
      "The number of rows in the training dataset is:  17307\n",
      "The number of rows in the testing dataset is:  3\n"
     ]
    }
   ],
   "source": [
    "print(\"The shape of the training dataset is: \", df_train.shape)\n",
    "print(\"The shape of the testing dataset is: \", df_test.shape)\n",
    "print(\"The number of rows in the training dataset is: \", df_train.shape[0])\n",
    "print(\"The number of rows in the testing dataset is: \", df_test.shape[0])"
   ]
  },
  {
   "cell_type": "code",
   "execution_count": 91,
   "metadata": {},
   "outputs": [
    {
     "name": "stdout",
     "output_type": "stream",
     "text": [
      "A sample of the full_text column in the training dataset is:\n",
      "\n",
      "\n",
      "Dear, State Senator\n",
      "\n",
      "This is a letter to argue in favor of keeping the Electoral College.\"There are many reasons to keep the Electoral College\" one reason is because it is widely regarded as an anachronism, a dispute over the outcome of an Electoral College vote is possible, but it is less likely than a dispute over the popular vote, and the Electoral College restores some of the weight in the political balance that large states (by population) lose by virue of the mal apportionment of the Senate decreed in the Constitution.\n",
      "\n",
      "I am in favor of keeping the Electoral College because,it is widely regarded as an anachronism. A non-democratic method of selecting a president that ought to be [overruled] by declaring the canaditdate who receives the most populare votes the winner. The advocates of this position are correct in arguing that the Electoral College method is not democratic in a method sense.It is the electors who elect the the president ,not the people. But each party selects a slate of electors trusted to vote for the party's nominee (and that trust is rarely betrayed).\n",
      "\n",
      "Another, reason I am in favor of keeping the Electoral College is because, a dispute over the outcome of an Electoral College vote is possible. But it is less likely than a dispute over the popular vote. But it is less likely than a dispute over the popular vote. The reason is that the winning canadate's share of the Electoral College invariably exceeds his share of the popular vote.\n",
      "\n",
      "Last but not least, I am in favor of keeping the Electoral College is because, the Electoral College restores some of the weight in the political balance that large states (by population) lose by virue of the mal apportionment of the Senate decreed in the Constitution. A larger state gets more attintion from presidential canadidates in a campaign than a small state does. It can be argued that Electoral College methods of selecting the president may turn off potential voters for a canadidates who has no hope of carrying their state. But of  course no voter's vote swings a national election, and in spite of that, about 1/2 the eligible American population did vote in the [2012's] election.\n",
      "\n",
      "From, PROPER_NAME            \n"
     ]
    }
   ],
   "source": [
    "print(\"A sample of the full_text column in the training dataset is:\\n\\n\")\n",
    "print(df_train['full_text'][4])\n"
   ]
  },
  {
   "cell_type": "markdown",
   "metadata": {},
   "source": [
    "# Data Insights and Visualisation"
   ]
  },
  {
   "cell_type": "code",
   "execution_count": 92,
   "metadata": {},
   "outputs": [],
   "source": [
    "def count_unique_words(df):\n",
    "    \"\"\"\n",
    "    Counts the number of unique words on the essays in the DataFrame.\n",
    "\n",
    "    Parameters:\n",
    "    df (DataFrame): DataFrame containing the essays.\n",
    "\n",
    "    Returns:\n",
    "    num_unique_words (int): Number of unique words in the DataFrame.\n",
    "    \"\"\"\n",
    "\n",
    "    all_essays = ' '.join(df['full_text'].tolist())\n",
    "    words = all_essays.split()\n",
    "    unique_words = set(words)\n",
    "    num_unique_words = len(unique_words)\n",
    "    \n",
    "    return num_unique_words"
   ]
  },
  {
   "cell_type": "code",
   "execution_count": 93,
   "metadata": {},
   "outputs": [],
   "source": [
    "def get_average_essay_length(df):\n",
    "    \"\"\"\n",
    "    Calculates the average length of essays in terms of word count.\n",
    "\n",
    "    Parameters:\n",
    "    df (DataFrame): DataFrame containing the essays.\n",
    "\n",
    "    Returns:\n",
    "    average_length (float): Average length of essays in terms of word count.\n",
    "    \"\"\"\n",
    "    \n",
    "    all_essays = ' '.join(df['full_text'].tolist())\n",
    "    words = all_essays.split()\n",
    "    total_words = len(words)\n",
    "    num_essays = len(df)\n",
    "    average_length = total_words / num_essays\n",
    "    \n",
    "    return average_length"
   ]
  },
  {
   "cell_type": "code",
   "execution_count": 94,
   "metadata": {},
   "outputs": [],
   "source": [
    "def calculate_average_word_length(df):\n",
    "    \"\"\"\n",
    "    Calculates the average length of words used in the essays.\n",
    "\n",
    "    Parameters:\n",
    "    df (DataFrame): DataFrame containing the essays.\n",
    "\n",
    "    Returns:\n",
    "    average_word_length (float): Average length of words in the essays.\n",
    "    \"\"\"\n",
    "    \n",
    "    all_essays = ' '.join(df['full_text'].tolist())\n",
    "    words = all_essays.split()\n",
    "    total_characters = sum(len(word) for word in words)\n",
    "    total_words = len(words)\n",
    "    average_word_length = total_characters / total_words\n",
    "    \n",
    "    return average_word_length"
   ]
  },
  {
   "cell_type": "code",
   "execution_count": 95,
   "metadata": {},
   "outputs": [],
   "source": [
    "def calculate_average_words_per_sentence(df):\n",
    "    \"\"\"\n",
    "    Calculates the average number of words per sentence in the dataset.\n",
    "\n",
    "    Parameters:\n",
    "    df (DataFrame): DataFrame containing the essays.\n",
    "\n",
    "    Returns:\n",
    "    average_words (float): Average number of words per sentence.\n",
    "    \"\"\"\n",
    "   \n",
    "    sentences = [sent_tokenize(essay) for essay in df['full_text']]\n",
    "    all_sentences = [sentence for essay_sentences in sentences for sentence in essay_sentences]\n",
    "    total_words = sum(len(word_tokenize(sentence)) for sentence in all_sentences)\n",
    "    total_sentences = len(all_sentences)\n",
    "    average_words = total_words / total_sentences\n",
    "    \n",
    "    return average_words"
   ]
  },
  {
   "cell_type": "code",
   "execution_count": 96,
   "metadata": {},
   "outputs": [],
   "source": [
    "def calculate_average_paragraphs_per_essay(df):\n",
    "    \"\"\"\n",
    "    Calculates the average number of paragraphs per essay in the dataset.\n",
    "\n",
    "    Parameters:\n",
    "    df (DataFrame): DataFrame containing the essays.\n",
    "\n",
    "    Returns:\n",
    "    average_paragraphs (float): Average number of paragraphs per essay.\n",
    "    \"\"\"\n",
    "    \n",
    "    df['num_paragraphs'] = df['full_text'].apply(lambda essay: essay.count('\\n\\n') + 1) \n",
    "    average_paragraphs = df['num_paragraphs'].mean()\n",
    "    \n",
    "    return average_paragraphs"
   ]
  },
  {
   "cell_type": "code",
   "execution_count": 97,
   "metadata": {},
   "outputs": [],
   "source": [
    "def calculate_average_sentences_per_paragraph(df):\n",
    "    \"\"\"\n",
    "    Calculates the average number of sentences per paragraph in the dataset.\n",
    "\n",
    "    Parameters:\n",
    "    df (DataFrame): DataFrame containing the essays.\n",
    "\n",
    "    Returns:\n",
    "    average_sentences (float): Average number of sentences per paragraph.\n",
    "    \"\"\"\n",
    "   \n",
    "    df['paragraphs'] = df['full_text'].apply(lambda essay: essay.split('\\n\\n'))\n",
    "    all_paragraphs = [paragraph for essay_paragraphs in df['paragraphs'] for paragraph in essay_paragraphs]\n",
    "    num_sentences_per_paragraph = [len(sent_tokenize(paragraph)) for paragraph in all_paragraphs]\n",
    "    average_sentences = sum(num_sentences_per_paragraph) / len(num_sentences_per_paragraph)\n",
    "    \n",
    "    return average_sentences"
   ]
  },
  {
   "cell_type": "code",
   "execution_count": 98,
   "metadata": {},
   "outputs": [],
   "source": [
    "def calculate_average_words_per_paragraph(df):\n",
    "    \"\"\"\n",
    "    Calculates the average number of words per paragraph in the dataset.\n",
    "\n",
    "    Parameters:\n",
    "    df (DataFrame): DataFrame containing the essays.\n",
    "\n",
    "    Returns:\n",
    "    average_words (float): Average number of words per paragraph.\n",
    "    \"\"\"\n",
    "    \n",
    "    df['paragraphs'] = df['full_text'].apply(lambda essay: essay.split('\\n\\n'))\n",
    "    all_paragraphs = [paragraph for essay_paragraphs in df['paragraphs'] for paragraph in essay_paragraphs]\n",
    "    num_words_per_paragraph = [len(word_tokenize(paragraph)) for paragraph in all_paragraphs]\n",
    "    average_words = sum(num_words_per_paragraph) / len(num_words_per_paragraph)\n",
    "    \n",
    "    return average_words"
   ]
  },
  {
   "cell_type": "code",
   "execution_count": 99,
   "metadata": {},
   "outputs": [],
   "source": [
    "def get_most_common_words(df, stopwords_not_included=True, num_words=10):\n",
    "    \"\"\"\n",
    "    Identifies the most common words used in the essays along with their counts.\n",
    "\n",
    "    Parameters:\n",
    "    df (DataFrame): DataFrame containing the essays.\n",
    "    stopwords (bool): Whether to include stopwords or not. If true, stopwords will be removed.\n",
    "    num_words (int): Number of most common words to return.\n",
    "\n",
    "    Returns:\n",
    "    common_words (list of tuples): List of tuples containing the most common words and their counts.\n",
    "    \"\"\"\n",
    "    all_essays = ' '.join(df['full_text'].tolist())\n",
    "    words = all_essays.split()\n",
    "\n",
    "    if (stopwords_not_included == True):\n",
    "        stop_words = set(stopwords.words('english'))\n",
    "        words = [word for word in words if word.lower() not in stop_words]\n",
    "    \n",
    "    word_counts = Counter(words)\n",
    "    common_words = word_counts.most_common(num_words)\n",
    "\n",
    "    df_common_words = pd.DataFrame(common_words, columns=['Word', 'Count'])\n",
    "    print(df_common_words)\n",
    "    \n",
    "    return common_words"
   ]
  },
  {
   "cell_type": "code",
   "execution_count": 100,
   "metadata": {},
   "outputs": [],
   "source": [
    "def syllable_count_word(word):\n",
    "    \"\"\"\n",
    "    Counts the number of syllables in a word using the CMU Pronouncing Dictionary.\n",
    "\n",
    "    Parameters:\n",
    "    word (str): The word for which syllable count needs to be calculated.\n",
    "\n",
    "    Returns:\n",
    "    syllable_count (int): The number of syllables in the word.\n",
    "    \"\"\"\n",
    "\n",
    "    d = cmudict.dict()\n",
    "    \n",
    "    if word in d:\n",
    "        syllable_count = max([len(list(y for y in x if y[-1].isdigit())) for x in d[word.lower()]])\n",
    "    else:\n",
    "        syllable_count = 1\n",
    "    \n",
    "    return syllable_count\n",
    "\n",
    "def calculate_fkgl(text):\n",
    "    \"\"\"\n",
    "    Calculates the Flesch-Kincaid Grade Level (FKGL) score for a given text.\n",
    "\n",
    "    Parameters:\n",
    "    text (str): The text for which FKGL score needs to be calculated.\n",
    "\n",
    "    Returns:\n",
    "    fkgl_score (float): The FKGL score of the text.\n",
    "    \"\"\"\n",
    "\n",
    "    sentences = sent_tokenize(text)\n",
    "    words = [word.lower() for sentence in sentences for word in word_tokenize(sentence)]\n",
    "    \n",
    "    syllable_count = 0\n",
    "    for word in words:\n",
    "        syllable_count += syllable_count_word(word)\n",
    "\n",
    "    average_sentence_length = len(words) / len(sentences)\n",
    "    average_syllables_per_word = syllable_count / len(words)\n",
    "\n",
    "    fkgl_score = 0.39 * average_sentence_length + 11.8 * average_syllables_per_word - 15.59\n",
    "    \n",
    "    return fkgl_score"
   ]
  },
  {
   "cell_type": "code",
   "execution_count": 101,
   "metadata": {},
   "outputs": [],
   "source": [
    "def plot_essay_length_distribution(df):\n",
    "    \"\"\"\n",
    "    Plots a histogram showing the distribution of essay lengths in terms of word count.\n",
    "\n",
    "    Parameters:\n",
    "    df (DataFrame): DataFrame containing the essays.\n",
    "    \"\"\"\n",
    "    \n",
    "    all_essays = ' '.join(df['full_text'].tolist())\n",
    "    words = all_essays.split()\n",
    "    essay_lengths = [len(words) for words in df['full_text'].str.split()]\n",
    "    \n",
    "    # Plotting the histogram\n",
    "    plt.figure(figsize=(10, 6))\n",
    "    plt.hist(essay_lengths, bins=20, color='skyblue', edgecolor='black')\n",
    "    plt.title('Distribution of Essay Lengths')\n",
    "    plt.xlabel('Length of Essay (Word Count)')\n",
    "    plt.ylabel('Frequency')\n",
    "    plt.grid(True)\n",
    "    plt.show()"
   ]
  },
  {
   "cell_type": "code",
   "execution_count": 102,
   "metadata": {},
   "outputs": [],
   "source": [
    "def plot_class_distribution(df):\n",
    "    \"\"\"\n",
    "    Plots a bar chart showing the distribution of classes in the dataset.\n",
    "\n",
    "    Parameters:\n",
    "    df (DataFrame): DataFrame containing the classes.\n",
    "    \"\"\"\n",
    "    \n",
    "    df['score'].value_counts().plot(kind='bar', color='skyblue', edgecolor='black')\n",
    "    plt.title('Distribution of Classes')\n",
    "    plt.xlabel('Class')\n",
    "    plt.ylabel('Frequency')\n",
    "    plt.grid(axis='y')\n",
    "    plt.show()"
   ]
  },
  {
   "cell_type": "code",
   "execution_count": 103,
   "metadata": {},
   "outputs": [],
   "source": [
    "def get_data_insights(df):\n",
    "    \"\"\"\n",
    "    Generates insights from the dataset.\n",
    "\n",
    "    \"\"\"\n",
    "    \n",
    "    num_unique_words = count_unique_words(df_train)\n",
    "    average_essay_length = get_average_essay_length(df_train)\n",
    "    average_word_length = calculate_average_word_length(df_train)\n",
    "    average_words_per_sentence = calculate_average_words_per_sentence(df_train)\n",
    "    average_paragraphs = calculate_average_paragraphs_per_essay(df_train)\n",
    "    average_sentences = calculate_average_sentences_per_paragraph(df_train)\n",
    "    average_words = calculate_average_words_per_paragraph(df_train)\n",
    "    print(\"Number of unique words in the dataset:\", num_unique_words)\n",
    "    print(\"Average essay length in the dataset:\", average_essay_length)\n",
    "    print(\"Average word length in the dataset:\", average_word_length)\n",
    "    print(\"Average number of words per sentence in the dataset:\", average_words_per_sentence)\n",
    "    print(\"Average number of paragraphs per essay in the dataset:\", average_paragraphs)\n",
    "    print(\"Average number of sentences per paragraph in the dataset:\", average_sentences)\n",
    "    print(\"Average number of words per paragraph in the dataset:\", average_words)\n",
    "    print(\"Most common words in the dataset:\")\n",
    "    get_most_common_words(df_train)\n",
    "    plot_essay_length_distribution(df_train)\n",
    "    plot_class_distribution(df_train)"
   ]
  },
  {
   "cell_type": "code",
   "execution_count": 104,
   "metadata": {},
   "outputs": [
    {
     "name": "stdout",
     "output_type": "stream",
     "text": [
      "Data Insights for the training dataset:\n",
      "Number of unique words in the dataset: 129566\n",
      "Average essay length in the dataset: 368.3482405962905\n",
      "Average word length in the dataset: 4.557174326035612\n",
      "Average number of words per sentence in the dataset: 21.421945269988075\n",
      "Average number of paragraphs per essay in the dataset: 4.965274166522216\n",
      "Average number of sentences per paragraph in the dataset: 3.9326925314776457\n",
      "Average number of words per paragraph in the dataset: 82.36881793003933\n",
      "Most common words in the dataset:\n",
      "     Word  Count\n",
      "0   would  43621\n",
      "1  people  32374\n",
      "2    cars  32012\n",
      "3     car  30530\n",
      "4   could  29338\n",
      "5    like  22464\n",
      "6   Venus  21637\n",
      "7     get  17290\n",
      "8    also  16948\n",
      "9   think  15582\n"
     ]
    },
    {
     "data": {
      "image/png": "[encoded data removed]",
      "text/plain": [
       "<Figure size 1000x600 with 1 Axes>"
      ]
     },
     "metadata": {},
     "output_type": "display_data"
    },
    {
     "data": {
      "image/png": "[encoded data removed]",
      "text/plain": [
       "<Figure size 640x480 with 1 Axes>"
      ]
     },
     "metadata": {},
     "output_type": "display_data"
    }
   ],
   "source": [
    "print(\"Data Insights for the training dataset:\")\n",
    "get_data_insights(df_train)"
   ]
  },
  {
   "cell_type": "markdown",
   "metadata": {},
   "source": [
    "# Decision Trees"
   ]
  },
  {
   "cell_type": "markdown",
   "metadata": {},
   "source": [
    "## Data Preprocessing"
   ]
  },
  {
   "cell_type": "code",
   "execution_count": 105,
   "metadata": {},
   "outputs": [],
   "source": [
    "def remove_urls(text):\n",
    "    \"\"\"\n",
    "    Removes URLs from the text.\n",
    "\n",
    "    Parameters:\n",
    "    text (str): The text from which URLs need to be removed.\n",
    "\n",
    "    Returns:\n",
    "    text (str): Text with URLs removed.\n",
    "    \"\"\"\n",
    "\n",
    "    url_pattern = re.compile(r'https?://\\S+|www\\.\\S+')\n",
    "    return url_pattern.sub(r'', text)\n",
    "\n",
    "def data_preprocessing(df):\n",
    "    \"\"\"\n",
    "    Preprocesses the data by performing the following steps:\n",
    "    - Lowercasing\n",
    "    - Removing URLs\n",
    "    - Removing punctuation\n",
    "    - Removing stopwords\n",
    "    - Lemmatization\n",
    "\n",
    "    Parameters:\n",
    "    df (DataFrame): DataFrame containing the essays.\n",
    "\n",
    "    Returns:\n",
    "    df (DataFrame): DataFrame with preprocessed essays.\n",
    "    \"\"\"\n",
    "\n",
    "    for index, row in df.iterrows():\n",
    "        text_value = row['full_text']\n",
    "\n",
    "        \n",
    "        text_value = text_value.lower()\n",
    "        text_value = remove_urls(text_value)\n",
    "        text_value = re.sub(r'[^\\w\\s]', '', text_value)\n",
    "\n",
    "        stop_words = set(stopwords.words('english'))\n",
    "        text_value = ' '.join([word for word in text_value.split() if word not in stop_words])\n",
    "\n",
    "        lemmatizer = WordNetLemmatizer()\n",
    "        text_value = ' '.join([lemmatizer.lemmatize(word) for word in text_value.split()])\n",
    "\n",
    "        df.at[index, 'full_text_preprocessed'] = text_value\n",
    "\n",
    "    return df"
   ]
  },
  {
   "cell_type": "markdown",
   "metadata": {},
   "source": [
    "## TF-IDF Vectoriser"
   ]
  },
  {
   "cell_type": "code",
   "execution_count": 106,
   "metadata": {},
   "outputs": [],
   "source": [
    "def perform_tfidf(df, column, max_features=1000, min_df=0.0, max_df=1.0, ngram_range=(1, 1), \n",
    "                  stop_words=None, tokenizer=None, use_idf=True, smooth_idf=True,\n",
    "                  sublinear_tf=False, binary=False, norm='l2'):\n",
    "    \"\"\"\n",
    "    Performs TF-IDF vectorization on the essays in the DataFrame.\n",
    "\n",
    "    Parameters:\n",
    "    df (DataFrame): DataFrame containing the essays.\n",
    "    column (str): Name of the column containing the essays.\n",
    "    max_features (int or None): Maximum number of features (unique words) to consider.\n",
    "    min_df (float or int): Minimum document frequency for words to be included.\n",
    "    max_df (float or int): Maximum document frequency for words to be included.\n",
    "    ngram_range (tuple): Range of n-grams to consider.\n",
    "    stop_words (str, list, or None): Stop words to be ignored during tokenization.\n",
    "    tokenizer (callable or None): Custom tokenizer function.\n",
    "    use_idf (bool): Whether to use inverse document frequency (IDF) in TF-IDF calculation.\n",
    "    smooth_idf (bool): Whether to add a constant term to the IDF calculation.\n",
    "    sublinear_tf (bool): Whether to apply logarithmic scaling to term frequency (TF) values.\n",
    "    binary (bool): Whether to use binary frequency counts instead of raw term frequencies.\n",
    "    norm (str or None): Normalization method for the TF-IDF matrix.\n",
    "\n",
    "    Returns:\n",
    "    tfidf_matrix (array): TF-IDF matrix representing the essays.\n",
    "    feature_names (list): List of feature names (words) corresponding to the columns of the TF-IDF matrix.\n",
    "    \"\"\"\n",
    "    essays = df[column].tolist()\n",
    "\n",
    "    tfidf_vectorizer = TfidfVectorizer(max_features=max_features, min_df=min_df, max_df=max_df,\n",
    "                                       ngram_range=ngram_range, stop_words=stop_words,\n",
    "                                       tokenizer=tokenizer, use_idf=use_idf,\n",
    "                                       smooth_idf=smooth_idf, sublinear_tf=sublinear_tf,\n",
    "                                       binary=binary, norm=norm)\n",
    "    \n",
    "    tfidf_matrix = tfidf_vectorizer.fit_transform(essays)\n",
    "    feature_names = tfidf_vectorizer.get_feature_names_out()\n",
    "\n",
    "    return tfidf_matrix, feature_names"
   ]
  },
  {
   "cell_type": "markdown",
   "metadata": {},
   "source": [
    "## Decision Tree Model"
   ]
  },
  {
   "cell_type": "code",
   "execution_count": 107,
   "metadata": {},
   "outputs": [],
   "source": [
    "def train_decision_tree_classifier(X_train, y_train, criterion='gini', splitter='best', max_depth=None,\n",
    "                                   min_samples_split=2, min_samples_leaf=1, min_weight_fraction_leaf=0.0,\n",
    "                                   max_features=None, random_state=None, max_leaf_nodes=None,\n",
    "                                   min_impurity_decrease=0.0, class_weight=None, ccp_alpha=0.0):\n",
    "    \"\"\"\n",
    "    Trains a Decision Tree Classifier with specified parameters.\n",
    "\n",
    "    Parameters:\n",
    "    X_train (array-like): Feature matrix for training.\n",
    "    y_train (array-like): Target variable for training.\n",
    "    criterion (str): The function to measure the quality of a split.\n",
    "    splitter (str): The strategy used to choose the split at each node.\n",
    "    max_depth (int): The maximum depth of the tree.\n",
    "    min_samples_split (int or float): The minimum number of samples required to split an internal node.\n",
    "    min_samples_leaf (int or float): The minimum number of samples required to be at a leaf node.\n",
    "    min_weight_fraction_leaf (float): The minimum weighted fraction of the sum total of weights (of all the input samples) required to be at a leaf node.\n",
    "    max_features (int, float or {'auto', 'sqrt', 'log2'}): The number of features to consider when looking for the best split.\n",
    "    random_state (int or None): Seed of the random number generator for reproducibility.\n",
    "    max_leaf_nodes (int or None): Grow a tree with max_leaf_nodes in best-first fashion.\n",
    "    min_impurity_decrease (float): A node will be split if this split induces a decrease of the impurity greater than or equal to this value.\n",
    "    class_weight (dict, list of dict or 'balanced', default=None): Weights associated with classes in the form {class_label: weight}.\n",
    "    ccp_alpha (non-negative float, default=0.0): Complexity parameter used for Minimal Cost-Complexity Pruning.\n",
    "    monotonic_cst (array-like of int of shape (n_features), default=None): Constraints on the signs of the coefficients for each feature.\n",
    "    \n",
    "    Returns:\n",
    "    clf (DecisionTreeClassifier): Trained Decision Tree Classifier.\n",
    "    \"\"\"\n",
    "    clf = DecisionTreeClassifier(criterion=criterion, splitter=splitter, max_depth=max_depth,\n",
    "                                 min_samples_split=min_samples_split, min_samples_leaf=min_samples_leaf,\n",
    "                                 min_weight_fraction_leaf=min_weight_fraction_leaf, max_features=max_features,\n",
    "                                 random_state=random_state, max_leaf_nodes=max_leaf_nodes,\n",
    "                                 min_impurity_decrease=min_impurity_decrease, class_weight=class_weight,\n",
    "                                 ccp_alpha=ccp_alpha)\n",
    "    \n",
    "\n",
    "    clf.fit(X_train, y_train)\n",
    "    \n",
    "    return clf"
   ]
  },
  {
   "cell_type": "markdown",
   "metadata": {},
   "source": [
    "## Testing the Model"
   ]
  },
  {
   "cell_type": "code",
   "execution_count": 108,
   "metadata": {},
   "outputs": [],
   "source": [
    "def compute_cohen_kappa_score(eval_pred):\n",
    "    \"\"\"\n",
    "    Computes the Cohen's Kappa score for the predictions.\n",
    "\n",
    "    Parameters:\n",
    "    eval_pred (tuple): Tuple containing the predictions and labels.\n",
    "\n",
    "    Returns:\n",
    "    results (dict): Dictionary containing the Cohen's Kappa score.\n",
    "    \"\"\"\n",
    "    \n",
    "    predictions, labels = eval_pred\n",
    "    qwk = cohen_kappa_score(labels, predictions.clip(0, 5).round(0), weights='quadratic')\n",
    "    results = {'qwk': qwk}\n",
    "    return results"
   ]
  },
  {
   "cell_type": "code",
   "execution_count": 112,
   "metadata": {},
   "outputs": [],
   "source": [
    "def evaluate_decision_trees_model(df, train_split=0.7, val_split=0.1, test_split=0.2, kFold=5):\n",
    "    \"\"\"\n",
    "    Splits the data into training, validation, and test sets, performs k-fold cross-validation on the training set,\n",
    "    and evaluates the final model on the test set using Decision Tree Classifier and TF-IDF vectorization.\n",
    "\n",
    "    Parameters:\n",
    "    df (DataFrame): DataFrame containing features (X) and target variable (y).\n",
    "    train_split (float): Proportion of data to use for training.\n",
    "    val_split (float): Proportion of data to use for validation.\n",
    "    test_split (float): Proportion of data to use for testing.\n",
    "    kFold (int): Number of folds for cross-validation.\n",
    "\n",
    "    Returns:\n",
    "    test_accuracy (float): Accuracy of the model on the test set.\n",
    "    \"\"\"\n",
    "    X = df['full_text_preprocessed'] \n",
    "    y = df['score']  \n",
    "\n",
    "    X_train_full, X_test, y_train_full, y_test = train_test_split(X, y, test_size=test_split, random_state=42)\n",
    "    X_train, X_val, y_train, y_val = train_test_split(X_train_full, y_train_full, test_size=val_split / (train_split + val_split), random_state=42)\n",
    "\n",
    "    kf = KFold(n_splits=kFold, shuffle=True, random_state=42)\n",
    "    train_scores = []\n",
    "\n",
    "    for train_index, val_index in kf.split(X_train):\n",
    "        X_train_fold, X_val_fold = X_train.iloc[train_index], X_train.iloc[val_index]\n",
    "        y_train_fold, y_val_fold = y_train.iloc[train_index], y_train.iloc[val_index]\n",
    "\n",
    "        X_train_fold_df = pd.DataFrame(X_train_fold, columns=['full_text_preprocessed'])\n",
    "        X_val_fold_df = pd.DataFrame(X_val_fold, columns=['full_text_preprocessed'])\n",
    "        \n",
    "        tfidf_matrix_train, feature_names = perform_tfidf(X_train_fold_df, 'full_text_preprocessed')\n",
    "        tfidf_matrix_val, _ = perform_tfidf(X_val_fold_df, 'full_text_preprocessed')\n",
    "        \n",
    "        model = train_decision_tree_classifier(tfidf_matrix_train, y_train_fold)\n",
    "        \n",
    "        val_preds = model.predict(tfidf_matrix_val)\n",
    "        val_accuracy = accuracy_score(y_val_fold, val_preds)\n",
    "        train_scores.append(val_accuracy)\n",
    "\n",
    "    print(\"Cross-Validation Scores:\", train_scores)\n",
    "\n",
    "    X_train_full_df = pd.DataFrame(X_train_full, columns=['full_text_preprocessed'])\n",
    "    X_test_df = pd.DataFrame(X_test, columns=['full_text_preprocessed'])\n",
    "    \n",
    "    tfidf_matrix_train_full, _ = perform_tfidf(X_train_full_df, 'full_text_preprocessed')\n",
    "    tfidf_matrix_test, _ = perform_tfidf(X_test_df, 'full_text_preprocessed')\n",
    "    \n",
    "    final_model = train_decision_tree_classifier(tfidf_matrix_train_full, y_train_full)\n",
    "    \n",
    "    test_preds = final_model.predict(tfidf_matrix_test)\n",
    "    test_accuracy = accuracy_score(y_test, test_preds)\n",
    "    \n",
    "    print(\"Classification Report:\")\n",
    "    print(classification_report(y_test, test_preds, zero_division=1))  \n",
    "    print(\"Accuracy:\", test_accuracy) \n",
    "\n",
    "    eval_pred = (test_preds, y_test)\n",
    "    eval_results = compute_cohen_kappa_score(eval_pred)\n",
    "    print(\"QWK Score:\", eval_results['qwk'])\n",
    "\n",
    "    print(\"True Labels:\", y_test.values)\n",
    "    print(\"Predicted Labels:\", test_preds)\n",
    "\n",
    "    cm = confusion_matrix(y_test, test_preds)\n",
    "    plt.figure(figsize=(10, 7))\n",
    "    sns.heatmap(cm, annot=True, fmt='g', cmap='Blues', xticklabels=np.unique(test_preds), yticklabels=np.unique(test_preds))\n",
    "    plt.xlabel('Predicted Labels')\n",
    "    plt.ylabel('True Labels')\n",
    "    plt.title('Confusion Matrix')\n",
    "    plt.show()\n",
    "\n",
    "    return test_accuracy\n"
   ]
  },
  {
   "cell_type": "code",
   "execution_count": 110,
   "metadata": {},
   "outputs": [],
   "source": [
    "df_train = data_preprocessing(df_train)"
   ]
  },
  {
   "cell_type": "code",
   "execution_count": 113,
   "metadata": {},
   "outputs": [
    {
     "name": "stdout",
     "output_type": "stream",
     "text": [
      "Cross-Validation Scores: [0.25257944696657036, 0.31778786628146927, 0.30169211721007017, 0.2624845233182006, 0.29232039636663915]\n",
      "Classification Report:\n",
      "              precision    recall  f1-score   support\n",
      "\n",
      "           1       0.09      0.12      0.10       260\n",
      "           2       0.29      0.44      0.35       965\n",
      "           3       0.36      0.33      0.35      1265\n",
      "           4       0.28      0.19      0.22       750\n",
      "           5       0.08      0.01      0.02       183\n",
      "           6       0.12      0.03      0.04        39\n",
      "\n",
      "    accuracy                           0.29      3462\n",
      "   macro avg       0.21      0.19      0.18      3462\n",
      "weighted avg       0.29      0.29      0.28      3462\n",
      "\n",
      "Accuracy: 0.2949162333911034\n",
      "QWK Score: 0.13958179137588567\n",
      "True Labels: [3 3 3 ... 2 2 2]\n",
      "Predicted Labels: [2 2 2 ... 3 3 4]\n"
     ]
    },
    {
     "data": {
      "image/png": "[encoded data removed]",
      "text/plain": [
       "<Figure size 1000x700 with 2 Axes>"
      ]
     },
     "metadata": {},
     "output_type": "display_data"
    }
   ],
   "source": [
    "accuracy_score_final = evaluate_decision_trees_model(df_train)"
   ]
  },
  {
   "cell_type": "code",
   "execution_count": null,
   "metadata": {},
   "outputs": [],
   "source": []
  }
 ],
 "metadata": {
  "kernelspec": {
   "display_name": "Python 3",
   "language": "python",
   "name": "python3"
  },
  "language_info": {
   "codemirror_mode": {
    "name": "ipython",
    "version": 3
   },
   "file_extension": ".py",
   "mimetype": "text/x-python",
   "name": "python",
   "nbconvert_exporter": "python",
   "pygments_lexer": "ipython3",
   "version": "3.10.4"
  }
 },
 "nbformat": 4,
 "nbformat_minor": 2
}
