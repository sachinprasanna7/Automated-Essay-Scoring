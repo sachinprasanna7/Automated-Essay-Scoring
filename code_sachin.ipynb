{
 "cells": [
  {
   "cell_type": "markdown",
   "metadata": {},
   "source": [
    "# Importing Libraries"
   ]
  },
  {
   "cell_type": "code",
   "execution_count": 18,
   "metadata": {},
   "outputs": [],
   "source": [
    "import pandas as pd\n",
    "import matplotlib.pyplot as plt\n",
    "from sklearn.feature_extraction.text import TfidfVectorizer\n",
    "from collections import Counter\n",
    "import nltk\n",
    "from nltk.corpus import stopwords, cmudict\n",
    "from nltk.tokenize import sent_tokenize, word_tokenize\n",
    "import multiprocessing"
   ]
  },
  {
   "cell_type": "markdown",
   "metadata": {},
   "source": [
    "# Describing Data"
   ]
  },
  {
   "cell_type": "code",
   "execution_count": 19,
   "metadata": {},
   "outputs": [],
   "source": [
    "df_train = pd.read_csv('Dataset/train.csv')"
   ]
  },
  {
   "cell_type": "code",
   "execution_count": 20,
   "metadata": {},
   "outputs": [
    {
     "data": {
      "text/html": [
       "<div>\n",
       "<style scoped>\n",
       "    .dataframe tbody tr th:only-of-type {\n",
       "        vertical-align: middle;\n",
       "    }\n",
       "\n",
       "    .dataframe tbody tr th {\n",
       "        vertical-align: top;\n",
       "    }\n",
       "\n",
       "    .dataframe thead th {\n",
       "        text-align: right;\n",
       "    }\n",
       "</style>\n",
       "<table border=\"1\" class=\"dataframe\">\n",
       "  <thead>\n",
       "    <tr style=\"text-align: right;\">\n",
       "      <th></th>\n",
       "      <th>essay_id</th>\n",
       "      <th>full_text</th>\n",
       "      <th>score</th>\n",
       "    </tr>\n",
       "  </thead>\n",
       "  <tbody>\n",
       "    <tr>\n",
       "      <th>0</th>\n",
       "      <td>000d118</td>\n",
       "      <td>Many people have car where they live. The thin...</td>\n",
       "      <td>3</td>\n",
       "    </tr>\n",
       "    <tr>\n",
       "      <th>1</th>\n",
       "      <td>000fe60</td>\n",
       "      <td>I am a scientist at NASA that is discussing th...</td>\n",
       "      <td>3</td>\n",
       "    </tr>\n",
       "    <tr>\n",
       "      <th>2</th>\n",
       "      <td>001ab80</td>\n",
       "      <td>People always wish they had the same technolog...</td>\n",
       "      <td>4</td>\n",
       "    </tr>\n",
       "    <tr>\n",
       "      <th>3</th>\n",
       "      <td>001bdc0</td>\n",
       "      <td>We all heard about Venus, the planet without a...</td>\n",
       "      <td>4</td>\n",
       "    </tr>\n",
       "    <tr>\n",
       "      <th>4</th>\n",
       "      <td>002ba53</td>\n",
       "      <td>Dear, State Senator\\n\\nThis is a letter to arg...</td>\n",
       "      <td>3</td>\n",
       "    </tr>\n",
       "  </tbody>\n",
       "</table>\n",
       "</div>"
      ],
      "text/plain": [
       "  essay_id                                          full_text  score\n",
       "0  000d118  Many people have car where they live. The thin...      3\n",
       "1  000fe60  I am a scientist at NASA that is discussing th...      3\n",
       "2  001ab80  People always wish they had the same technolog...      4\n",
       "3  001bdc0  We all heard about Venus, the planet without a...      4\n",
       "4  002ba53  Dear, State Senator\\n\\nThis is a letter to arg...      3"
      ]
     },
     "execution_count": 20,
     "metadata": {},
     "output_type": "execute_result"
    }
   ],
   "source": [
    "df_train.head()"
   ]
  },
  {
   "cell_type": "code",
   "execution_count": 21,
   "metadata": {},
   "outputs": [],
   "source": [
    "df_test = pd.read_csv('Dataset/test.csv')"
   ]
  },
  {
   "cell_type": "code",
   "execution_count": 22,
   "metadata": {},
   "outputs": [
    {
     "data": {
      "text/html": [
       "<div>\n",
       "<style scoped>\n",
       "    .dataframe tbody tr th:only-of-type {\n",
       "        vertical-align: middle;\n",
       "    }\n",
       "\n",
       "    .dataframe tbody tr th {\n",
       "        vertical-align: top;\n",
       "    }\n",
       "\n",
       "    .dataframe thead th {\n",
       "        text-align: right;\n",
       "    }\n",
       "</style>\n",
       "<table border=\"1\" class=\"dataframe\">\n",
       "  <thead>\n",
       "    <tr style=\"text-align: right;\">\n",
       "      <th></th>\n",
       "      <th>essay_id</th>\n",
       "      <th>full_text</th>\n",
       "    </tr>\n",
       "  </thead>\n",
       "  <tbody>\n",
       "    <tr>\n",
       "      <th>0</th>\n",
       "      <td>000d118</td>\n",
       "      <td>Many people have car where they live. The thin...</td>\n",
       "    </tr>\n",
       "    <tr>\n",
       "      <th>1</th>\n",
       "      <td>000fe60</td>\n",
       "      <td>I am a scientist at NASA that is discussing th...</td>\n",
       "    </tr>\n",
       "    <tr>\n",
       "      <th>2</th>\n",
       "      <td>001ab80</td>\n",
       "      <td>People always wish they had the same technolog...</td>\n",
       "    </tr>\n",
       "  </tbody>\n",
       "</table>\n",
       "</div>"
      ],
      "text/plain": [
       "  essay_id                                          full_text\n",
       "0  000d118  Many people have car where they live. The thin...\n",
       "1  000fe60  I am a scientist at NASA that is discussing th...\n",
       "2  001ab80  People always wish they had the same technolog..."
      ]
     },
     "execution_count": 22,
     "metadata": {},
     "output_type": "execute_result"
    }
   ],
   "source": [
    "df_test.head()"
   ]
  },
  {
   "cell_type": "code",
   "execution_count": 23,
   "metadata": {},
   "outputs": [
    {
     "data": {
      "text/plain": [
       "(17307, 3)"
      ]
     },
     "execution_count": 23,
     "metadata": {},
     "output_type": "execute_result"
    }
   ],
   "source": [
    "df_train.shape"
   ]
  },
  {
   "cell_type": "code",
   "execution_count": 24,
   "metadata": {},
   "outputs": [
    {
     "data": {
      "text/plain": [
       "(3, 2)"
      ]
     },
     "execution_count": 24,
     "metadata": {},
     "output_type": "execute_result"
    }
   ],
   "source": [
    "df_test.shape"
   ]
  },
  {
   "cell_type": "code",
   "execution_count": 25,
   "metadata": {},
   "outputs": [
    {
     "data": {
      "text/plain": [
       "<AxesSubplot:>"
      ]
     },
     "execution_count": 25,
     "metadata": {},
     "output_type": "execute_result"
    },
    {
     "data": {
      "image/png": "[encoded data removed]",
      "text/plain": [
       "<Figure size 640x480 with 1 Axes>"
      ]
     },
     "metadata": {},
     "output_type": "display_data"
    }
   ],
   "source": [
    "# make a histogram of class distrubutions of train df\n",
    "\n",
    "df_train['score'].value_counts().plot(kind='bar')"
   ]
  },
  {
   "cell_type": "markdown",
   "metadata": {},
   "source": [
    "# Data Insights and Visualisation"
   ]
  },
  {
   "cell_type": "code",
   "execution_count": 26,
   "metadata": {},
   "outputs": [],
   "source": [
    "def count_unique_words(df):\n",
    "    \"\"\"\n",
    "    Counts the number of unique words on the essays in the DataFrame.\n",
    "\n",
    "    Parameters:\n",
    "    df (DataFrame): DataFrame containing the essays.\n",
    "\n",
    "    Returns:\n",
    "    num_unique_words (int): Number of unique words in the DataFrame.\n",
    "    \"\"\"\n",
    "\n",
    "    all_essays = ' '.join(df['full_text'].tolist())\n",
    "    words = all_essays.split()\n",
    "    unique_words = set(words)\n",
    "    num_unique_words = len(unique_words)\n",
    "    \n",
    "    return num_unique_words"
   ]
  },
  {
   "cell_type": "code",
   "execution_count": 27,
   "metadata": {},
   "outputs": [],
   "source": [
    "def get_average_essay_length(df):\n",
    "    \"\"\"\n",
    "    Calculates the average length of essays in terms of word count.\n",
    "\n",
    "    Parameters:\n",
    "    df (DataFrame): DataFrame containing the essays.\n",
    "\n",
    "    Returns:\n",
    "    average_length (float): Average length of essays in terms of word count.\n",
    "    \"\"\"\n",
    "    \n",
    "    all_essays = ' '.join(df['full_text'].tolist())\n",
    "    words = all_essays.split()\n",
    "    total_words = len(words)\n",
    "    num_essays = len(df)\n",
    "    average_length = total_words / num_essays\n",
    "    \n",
    "    return average_length"
   ]
  },
  {
   "cell_type": "code",
   "execution_count": 28,
   "metadata": {},
   "outputs": [],
   "source": [
    "def calculate_average_word_length(df):\n",
    "    \"\"\"\n",
    "    Calculates the average length of words used in the essays.\n",
    "\n",
    "    Parameters:\n",
    "    df (DataFrame): DataFrame containing the essays.\n",
    "\n",
    "    Returns:\n",
    "    average_word_length (float): Average length of words in the essays.\n",
    "    \"\"\"\n",
    "    \n",
    "    all_essays = ' '.join(df['full_text'].tolist())\n",
    "    words = all_essays.split()\n",
    "    total_characters = sum(len(word) for word in words)\n",
    "    total_words = len(words)\n",
    "    average_word_length = total_characters / total_words\n",
    "    \n",
    "    return average_word_length"
   ]
  },
  {
   "cell_type": "code",
   "execution_count": 29,
   "metadata": {},
   "outputs": [],
   "source": [
    "def get_most_common_words(df, stopwords_not_included=True, num_words=10):\n",
    "    \"\"\"\n",
    "    Identifies the most common words used in the essays along with their counts.\n",
    "\n",
    "    Parameters:\n",
    "    df (DataFrame): DataFrame containing the essays.\n",
    "    stopwords (bool): Whether to include stopwords or not. If true, stopwords will be removed.\n",
    "    num_words (int): Number of most common words to return.\n",
    "\n",
    "    Returns:\n",
    "    common_words (list of tuples): List of tuples containing the most common words and their counts.\n",
    "    \"\"\"\n",
    "    all_essays = ' '.join(df['full_text'].tolist())\n",
    "    words = all_essays.split()\n",
    "\n",
    "    if (stopwords_not_included == True):\n",
    "        stop_words = set(stopwords.words('english'))\n",
    "        words = [word for word in words if word.lower() not in stop_words]\n",
    "    \n",
    "    word_counts = Counter(words)\n",
    "    common_words = word_counts.most_common(num_words)\n",
    "\n",
    "    df_common_words = pd.DataFrame(common_words, columns=['Word', 'Count'])\n",
    "    print(df_common_words)\n",
    "    \n",
    "    return common_words"
   ]
  },
  {
   "cell_type": "code",
   "execution_count": 30,
   "metadata": {},
   "outputs": [],
   "source": [
    "def syllable_count_word(word):\n",
    "    \"\"\"\n",
    "    Counts the number of syllables in a word using the CMU Pronouncing Dictionary.\n",
    "\n",
    "    Parameters:\n",
    "    word (str): The word for which syllable count needs to be calculated.\n",
    "\n",
    "    Returns:\n",
    "    syllable_count (int): The number of syllables in the word.\n",
    "    \"\"\"\n",
    "\n",
    "    d = cmudict.dict()\n",
    "    \n",
    "    if word in d:\n",
    "        syllable_count = max([len(list(y for y in x if y[-1].isdigit())) for x in d[word.lower()]])\n",
    "    else:\n",
    "        syllable_count = 1\n",
    "    \n",
    "    return syllable_count\n",
    "\n",
    "def calculate_fkgl(text):\n",
    "    \"\"\"\n",
    "    Calculates the Flesch-Kincaid Grade Level (FKGL) score for a given text.\n",
    "\n",
    "    Parameters:\n",
    "    text (str): The text for which FKGL score needs to be calculated.\n",
    "\n",
    "    Returns:\n",
    "    fkgl_score (float): The FKGL score of the text.\n",
    "    \"\"\"\n",
    "\n",
    "    sentences = sent_tokenize(text)\n",
    "    words = [word.lower() for sentence in sentences for word in word_tokenize(sentence)]\n",
    "    \n",
    "    syllable_count = 0\n",
    "    for word in words:\n",
    "        syllable_count += syllable_count_word(word)\n",
    "\n",
    "    average_sentence_length = len(words) / len(sentences)\n",
    "    average_syllables_per_word = syllable_count / len(words)\n",
    "\n",
    "    fkgl_score = 0.39 * average_sentence_length + 11.8 * average_syllables_per_word - 15.59\n",
    "    \n",
    "    return fkgl_score"
   ]
  },
  {
   "cell_type": "code",
   "execution_count": 31,
   "metadata": {},
   "outputs": [],
   "source": [
    "def plot_essay_length_distribution(df):\n",
    "    \"\"\"\n",
    "    Plots a histogram showing the distribution of essay lengths in terms of word count.\n",
    "\n",
    "    Parameters:\n",
    "    df (DataFrame): DataFrame containing the essays.\n",
    "    \"\"\"\n",
    "    \n",
    "    all_essays = ' '.join(df['full_text'].tolist())\n",
    "    words = all_essays.split()\n",
    "    essay_lengths = [len(words) for words in df['full_text'].str.split()]\n",
    "    \n",
    "    # Plotting the histogram\n",
    "    plt.figure(figsize=(10, 6))\n",
    "    plt.hist(essay_lengths, bins=20, color='skyblue', edgecolor='black')\n",
    "    plt.title('Distribution of Essay Lengths')\n",
    "    plt.xlabel('Length of Essay (Word Count)')\n",
    "    plt.ylabel('Frequency')\n",
    "    plt.grid(True)\n",
    "    plt.show()"
   ]
  },
  {
   "cell_type": "code",
   "execution_count": 32,
   "metadata": {},
   "outputs": [
    {
     "name": "stdout",
     "output_type": "stream",
     "text": [
      "Number of unique words in the dataset: 129566\n",
      "Average essay length in the dataset: 368.3482405962905\n",
      "Average word length in the dataset: 4.557174326035612\n",
      "FKGL Score of The Australian platypus is seemingly a hybrid of a mammal and reptilian creature is 11.264615384615386\n",
      "\n",
      "Most common words in the dataset:\n",
      "     Word  Count\n",
      "0   would  43621\n",
      "1  people  32374\n",
      "2    cars  32012\n",
      "3     car  30530\n",
      "4   could  29338\n",
      "5    like  22464\n",
      "6   Venus  21637\n",
      "7     get  17290\n",
      "8    also  16948\n",
      "9   think  15582\n"
     ]
    },
    {
     "data": {
      "image/png": "[encoded data removed]",
      "text/plain": [
       "<Figure size 1000x600 with 1 Axes>"
      ]
     },
     "metadata": {},
     "output_type": "display_data"
    }
   ],
   "source": [
    "num_unique_words = count_unique_words(df_train)\n",
    "average_essay_length = get_average_essay_length(df_train)\n",
    "average_word_length = calculate_average_word_length(df_train)\n",
    "print(\"Number of unique words in the dataset:\", num_unique_words)\n",
    "print(\"Average essay length in the dataset:\", average_essay_length)\n",
    "print(\"Average word length in the dataset:\", average_word_length)\n",
    "print(\"FKGL Score of The Australian platypus is seemingly a hybrid of a mammal and reptilian creature is\" , calculate_fkgl(\"The Australian platypus is seemingly a hybrid of a mammal and reptilian creature\"))\n",
    "print(\"\\nMost common words in the dataset:\")\n",
    "most_common_words = get_most_common_words(df_train)\n",
    "plot_essay_length_distribution(df_train)\n"
   ]
  },
  {
   "cell_type": "markdown",
   "metadata": {},
   "source": [
    "# Decision Trees"
   ]
  },
  {
   "cell_type": "markdown",
   "metadata": {},
   "source": [
    "## TF-IDF Vectoriser"
   ]
  },
  {
   "cell_type": "code",
   "execution_count": 33,
   "metadata": {},
   "outputs": [],
   "source": [
    "def perform_tfidf(df, max_features=1000, min_df=0, max_df=1.0, ngram_range=(1, 1), \n",
    "                  stop_words=None, tokenizer=None, use_idf=True, smooth_idf=True,\n",
    "                  sublinear_tf=False, binary=False, norm='l2'):\n",
    "    \"\"\"\n",
    "    Performs TF-IDF vectorization on the essays in the DataFrame.\n",
    "\n",
    "    Parameters:\n",
    "    df (DataFrame): DataFrame containing the essays.\n",
    "    max_features (int or None): Maximum number of features (unique words) to consider.\n",
    "    min_df (float or int): Minimum document frequency for words to be included.\n",
    "    max_df (float or int): Maximum document frequency for words to be included.\n",
    "    ngram_range (tuple): Range of n-grams to consider.\n",
    "    stop_words (str, list, or None): Stop words to be ignored during tokenization.\n",
    "    tokenizer (callable or None): Custom tokenizer function.\n",
    "    use_idf (bool): Whether to use inverse document frequency (IDF) in TF-IDF calculation.\n",
    "    smooth_idf (bool): Whether to add a constant term to the IDF calculation.\n",
    "    sublinear_tf (bool): Whether to apply logarithmic scaling to term frequency (TF) values.\n",
    "    binary (bool): Whether to use binary frequency counts instead of raw term frequencies.\n",
    "    norm (str or None): Normalization method for the TF-IDF matrix.\n",
    "\n",
    "    Returns:\n",
    "    tfidf_matrix (array): TF-IDF matrix representing the essays.\n",
    "    feature_names (list): List of feature names (words) corresponding to the columns of the TF-IDF matrix.\n",
    "    \"\"\"\n",
    "    # Extract essays from the DataFrame\n",
    "    essays = df['full_text'].tolist()\n",
    "\n",
    "    tfidf_vectorizer = TfidfVectorizer(max_features=max_features, min_df=min_df, max_df=max_df,\n",
    "                                       ngram_range=ngram_range, stop_words=stop_words,\n",
    "                                       tokenizer=tokenizer, use_idf=use_idf,\n",
    "                                       smooth_idf=smooth_idf, sublinear_tf=sublinear_tf,\n",
    "                                       binary=binary, norm=norm)\n",
    "    \n",
    "    tfidf_matrix = tfidf_vectorizer.fit_transform(essays)\n",
    "\n",
    "    feature_names = tfidf_vectorizer.get_feature_names_out()\n",
    "\n",
    "    return tfidf_matrix, feature_names"
   ]
  }
 ],
 "metadata": {
  "kernelspec": {
   "display_name": "Python 3",
   "language": "python",
   "name": "python3"
  },
  "language_info": {
   "codemirror_mode": {
    "name": "ipython",
    "version": 3
   },
   "file_extension": ".py",
   "mimetype": "text/x-python",
   "name": "python",
   "nbconvert_exporter": "python",
   "pygments_lexer": "ipython3",
   "version": "3.10.4"
  }
 },
 "nbformat": 4,
 "nbformat_minor": 2
}
